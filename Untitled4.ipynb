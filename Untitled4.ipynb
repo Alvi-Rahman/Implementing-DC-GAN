{
  "nbformat": 4,
  "nbformat_minor": 0,
  "metadata": {
    "colab": {
      "name": "Untitled4.ipynb",
      "provenance": []
    },
    "kernelspec": {
      "name": "python3",
      "display_name": "Python 3"
    },
    "accelerator": "GPU"
  },
  "cells": [
    {
      "cell_type": "code",
      "metadata": {
        "id": "oOs8mfER9pxo",
        "colab_type": "code",
        "colab": {
          "base_uri": "https://localhost:8080/",
          "height": 220
        },
        "outputId": "a0a87360-b7be-489f-cb4b-caf62baeea86"
      },
      "source": [
        "%matplotlib notebook\n",
        "!pip install git+https://github.com/am1tyadav/tfutils.git\n",
        "import tensorflow as tf\n",
        "import numpy as np\n",
        "import os\n",
        "import tfutils\n",
        "\n",
        "from matplotlib import pyplot as plt\n",
        "from tensorflow.keras.layers import Dense, Flatten, Conv2D, BatchNormalization\n",
        "from tensorflow.keras.layers import Conv2DTranspose, Reshape, LeakyReLU\n",
        "from tensorflow.keras.models import Model, Sequential\n",
        "from PIL import Image\n",
        "\n",
        "print('TensorFlow version:', tf.__version__)"
      ],
      "execution_count": null,
      "outputs": [
        {
          "output_type": "stream",
          "text": [
            "Collecting git+https://github.com/am1tyadav/tfutils.git\n",
            "  Cloning https://github.com/am1tyadav/tfutils.git to /tmp/pip-req-build-8ex3uer_\n",
            "  Running command git clone -q https://github.com/am1tyadav/tfutils.git /tmp/pip-req-build-8ex3uer_\n",
            "Building wheels for collected packages: tfutils\n",
            "  Building wheel for tfutils (setup.py) ... \u001b[?25l\u001b[?25hdone\n",
            "  Created wheel for tfutils: filename=tfutils-0.0.1-cp36-none-any.whl size=6442 sha256=3f6fd827b032dce0867de89a7b7eb2041794490b51708c26c47292db806d500b\n",
            "  Stored in directory: /tmp/pip-ephem-wheel-cache-zxn1i4x_/wheels/fc/ae/41/9164f4ea031c0d70c13ba0d3fa9ab01c6783b36d6324db18ec\n",
            "Successfully built tfutils\n",
            "Installing collected packages: tfutils\n",
            "Successfully installed tfutils-0.0.1\n",
            "TensorFlow version: 2.2.0\n"
          ],
          "name": "stdout"
        }
      ]
    },
    {
      "cell_type": "markdown",
      "metadata": {
        "id": "3fV8iV5W-ECV",
        "colab_type": "text"
      },
      "source": [
        "# Importing and Plotting data"
      ]
    },
    {
      "cell_type": "code",
      "metadata": {
        "id": "wlBzaBdm9663",
        "colab_type": "code",
        "colab": {
          "base_uri": "https://localhost:8080/",
          "height": 71
        },
        "outputId": "73b20559-5f19-4631-8f6b-62d0f6c63bc3"
      },
      "source": [
        "(x_train, y_train), (x_test, y_test) = tfutils.datasets.mnist.load_data(one_hot = False)\n",
        "x_train = tfutils.datasets.mnist.load_subset([0], x_train, y_train)\n",
        "x_test = tfutils.datasets.mnist.load_subset([0], x_test, y_test)\n",
        "x = np.concatenate([x_train, x_test], axis = 0)\n"
      ],
      "execution_count": null,
      "outputs": [
        {
          "output_type": "stream",
          "text": [
            "Downloading data from https://storage.googleapis.com/tensorflow/tf-keras-datasets/mnist.npz\n",
            "11493376/11490434 [==============================] - 0s 0us/step\n"
          ],
          "name": "stdout"
        }
      ]
    },
    {
      "cell_type": "code",
      "metadata": {
        "id": "_gD45OgPBxmm",
        "colab_type": "code",
        "colab": {
          "base_uri": "https://localhost:8080/",
          "height": 309
        },
        "outputId": "830f58a6-858a-405b-89bb-5bb37bbd7799"
      },
      "source": [
        "tfutils.datasets.mnist.plot_ten_random_examples(plt, x, np.zeros((x.shape[0], 1))).show()"
      ],
      "execution_count": null,
      "outputs": [
        {
          "output_type": "display_data",
          "data": {
            "image/png": "[encoded data removed]",
            "text/plain": [
              "<Figure size 720x360 with 10 Axes>"
            ]
          },
          "metadata": {
            "tags": []
          }
        }
      ]
    },
    {
      "cell_type": "markdown",
      "metadata": {
        "id": "q5nzWPhjHS-7",
        "colab_type": "text"
      },
      "source": [
        "# Discriminator\n",
        "#### Called as Critic\n",
        "Classify images as real or fake"
      ]
    },
    {
      "cell_type": "code",
      "metadata": {
        "id": "jaHzJtvHDFTQ",
        "colab_type": "code",
        "colab": {
          "base_uri": "https://localhost:8080/",
          "height": 533
        },
        "outputId": "ca9faafd-80fe-47c1-c82b-7ecab873017d"
      },
      "source": [
        "discriminator = Sequential([\n",
        "                            Conv2D(64, 3, strides = 2, input_shape = (28, 28, 1)),\n",
        "                            LeakyReLU(),\n",
        "                            BatchNormalization(),\n",
        "\n",
        "                            Conv2D(128, 5, strides = 2),\n",
        "                            LeakyReLU(),\n",
        "                            BatchNormalization(),\n",
        "\n",
        "                            Conv2D(256, 5, strides = 2),\n",
        "                            LeakyReLU(),\n",
        "                            BatchNormalization(),\n",
        "\n",
        "                            Flatten(),\n",
        "                            Dense(1, activation= 'sigmoid')\n",
        "\n",
        "])\n",
        "\n",
        "opt = tf.keras.optimizers.Adam(lr = 2e-4, beta_1 = 0.5)\n",
        "discriminator.compile(loss= 'binary_crossentropy', optimizer = opt, metrics = ['accuracy'])\n",
        "discriminator.summary()"
      ],
      "execution_count": null,
      "outputs": [
        {
          "output_type": "stream",
          "text": [
            "Model: \"sequential\"\n",
            "_________________________________________________________________\n",
            "Layer (type)                 Output Shape              Param #   \n",
            "=================================================================\n",
            "conv2d (Conv2D)              (None, 13, 13, 64)        640       \n",
            "_________________________________________________________________\n",
            "leaky_re_lu (LeakyReLU)      (None, 13, 13, 64)        0         \n",
            "_________________________________________________________________\n",
            "batch_normalization (BatchNo (None, 13, 13, 64)        256       \n",
            "_________________________________________________________________\n",
            "conv2d_1 (Conv2D)            (None, 5, 5, 128)         204928    \n",
            "_________________________________________________________________\n",
            "leaky_re_lu_1 (LeakyReLU)    (None, 5, 5, 128)         0         \n",
            "_________________________________________________________________\n",
            "batch_normalization_1 (Batch (None, 5, 5, 128)         512       \n",
            "_________________________________________________________________\n",
            "conv2d_2 (Conv2D)            (None, 1, 1, 256)         819456    \n",
            "_________________________________________________________________\n",
            "leaky_re_lu_2 (LeakyReLU)    (None, 1, 1, 256)         0         \n",
            "_________________________________________________________________\n",
            "batch_normalization_2 (Batch (None, 1, 1, 256)         1024      \n",
            "_________________________________________________________________\n",
            "flatten (Flatten)            (None, 256)               0         \n",
            "_________________________________________________________________\n",
            "dense (Dense)                (None, 1)                 257       \n",
            "=================================================================\n",
            "Total params: 1,027,073\n",
            "Trainable params: 1,026,177\n",
            "Non-trainable params: 896\n",
            "_________________________________________________________________\n"
          ],
          "name": "stdout"
        }
      ]
    },
    {
      "cell_type": "markdown",
      "metadata": {
        "id": "RUp-FDvTHWiW",
        "colab_type": "text"
      },
      "source": [
        "# Generator\n",
        "### Also called as artist\n",
        "Train to generate real images that will fool the critic"
      ]
    },
    {
      "cell_type": "code",
      "metadata": {
        "id": "VimW03atHZal",
        "colab_type": "code",
        "colab": {
          "base_uri": "https://localhost:8080/",
          "height": 533
        },
        "outputId": "ebbd0163-4aba-4731-f530-896ddcef995d"
      },
      "source": [
        "generator = Sequential([\n",
        "                        Dense(256, activation = 'relu', input_shape = (1, )),\n",
        "                        Reshape((1, 1, 256)),\n",
        "\n",
        "                        Conv2DTranspose(256, 5, activation = 'relu'),\n",
        "                        BatchNormalization(),\n",
        "\n",
        "                        Conv2DTranspose(128, 5, activation = 'relu'),\n",
        "                        BatchNormalization(),\n",
        "\n",
        "                        Conv2DTranspose(64, 5,strides= 2, activation = 'relu'),\n",
        "                        BatchNormalization(),\n",
        "\n",
        "                        Conv2DTranspose(32, 5, activation = 'relu'),\n",
        "                        BatchNormalization(),\n",
        "\n",
        "                        Conv2DTranspose(1, 4, activation = 'sigmoid'),\n",
        "\n",
        "])\n",
        "generator.summary()"
      ],
      "execution_count": null,
      "outputs": [
        {
          "output_type": "stream",
          "text": [
            "Model: \"sequential_1\"\n",
            "_________________________________________________________________\n",
            "Layer (type)                 Output Shape              Param #   \n",
            "=================================================================\n",
            "dense_1 (Dense)              (None, 256)               512       \n",
            "_________________________________________________________________\n",
            "reshape (Reshape)            (None, 1, 1, 256)         0         \n",
            "_________________________________________________________________\n",
            "conv2d_transpose (Conv2DTran (None, 5, 5, 256)         1638656   \n",
            "_________________________________________________________________\n",
            "batch_normalization_3 (Batch (None, 5, 5, 256)         1024      \n",
            "_________________________________________________________________\n",
            "conv2d_transpose_1 (Conv2DTr (None, 9, 9, 128)         819328    \n",
            "_________________________________________________________________\n",
            "batch_normalization_4 (Batch (None, 9, 9, 128)         512       \n",
            "_________________________________________________________________\n",
            "conv2d_transpose_2 (Conv2DTr (None, 21, 21, 64)        204864    \n",
            "_________________________________________________________________\n",
            "batch_normalization_5 (Batch (None, 21, 21, 64)        256       \n",
            "_________________________________________________________________\n",
            "conv2d_transpose_3 (Conv2DTr (None, 25, 25, 32)        51232     \n",
            "_________________________________________________________________\n",
            "batch_normalization_6 (Batch (None, 25, 25, 32)        128       \n",
            "_________________________________________________________________\n",
            "conv2d_transpose_4 (Conv2DTr (None, 28, 28, 1)         513       \n",
            "=================================================================\n",
            "Total params: 2,717,025\n",
            "Trainable params: 2,716,065\n",
            "Non-trainable params: 960\n",
            "_________________________________________________________________\n"
          ],
          "name": "stdout"
        }
      ]
    },
    {
      "cell_type": "code",
      "metadata": {
        "id": "Bwp3L1j4MBR2",
        "colab_type": "code",
        "colab": {
          "base_uri": "https://localhost:8080/",
          "height": 286
        },
        "outputId": "d7c8608f-10c8-4143-8305-b407ec0008ab"
      },
      "source": [
        "noise = np.random.randn(1, 1)\n",
        "gen_image = generator.predict(noise)[0]\n",
        "plt.figure()\n",
        "plt.imshow(np.reshape(gen_image, (28, 28)), cmap= 'binary')\n",
        "plt.show()\n"
      ],
      "execution_count": null,
      "outputs": [
        {
          "output_type": "display_data",
          "data": {
            "image/png": "[encoded data removed]",
            "text/plain": [
              "<Figure size 432x288 with 1 Axes>"
            ]
          },
          "metadata": {
            "tags": [],
            "needs_background": "light"
          }
        }
      ]
    },
    {
      "cell_type": "markdown",
      "metadata": {
        "id": "mJGbCo4w_o1V",
        "colab_type": "text"
      },
      "source": [
        "# Generative adversarial Network (GAN)"
      ]
    },
    {
      "cell_type": "code",
      "metadata": {
        "id": "Ke01dwva_yTz",
        "colab_type": "code",
        "colab": {
          "base_uri": "https://localhost:8080/",
          "height": 269
        },
        "outputId": "0cdb8dda-cec4-426c-fc60-425101a9f4cd"
      },
      "source": [
        "input_layer = tf.keras.layers.Input(shape = (1, ))\n",
        "gen_out = generator(input_layer)\n",
        "disc_out = discriminator(gen_out)\n",
        "\n",
        "gan = Model(\n",
        "    input_layer,\n",
        "    disc_out\n",
        ")\n",
        "\n",
        "discriminator.trainable = False\n",
        "gan.compile(loss = 'binary_crossentropy', optimizer = opt, metrics = ['accuracy'])\n",
        "gan.summary()"
      ],
      "execution_count": null,
      "outputs": [
        {
          "output_type": "stream",
          "text": [
            "Model: \"model\"\n",
            "_________________________________________________________________\n",
            "Layer (type)                 Output Shape              Param #   \n",
            "=================================================================\n",
            "input_1 (InputLayer)         [(None, 1)]               0         \n",
            "_________________________________________________________________\n",
            "sequential_1 (Sequential)    (None, 28, 28, 1)         2717025   \n",
            "_________________________________________________________________\n",
            "sequential (Sequential)      (None, 1)                 1027073   \n",
            "=================================================================\n",
            "Total params: 3,744,098\n",
            "Trainable params: 2,716,065\n",
            "Non-trainable params: 1,028,033\n",
            "_________________________________________________________________\n"
          ],
          "name": "stdout"
        }
      ]
    },
    {
      "cell_type": "markdown",
      "metadata": {
        "id": "aJLkvYzKBy6t",
        "colab_type": "text"
      },
      "source": [
        "# Training the GAN"
      ]
    },
    {
      "cell_type": "code",
      "metadata": {
        "id": "kG4C4prhB1yq",
        "colab_type": "code",
        "colab": {
          "base_uri": "https://localhost:8080/",
          "height": 54
        },
        "outputId": "4763ae48-6ac6-4740-ce03-4fc9566f8eb0"
      },
      "source": [
        "epochs = 25\n",
        "batch_size = 128\n",
        "steps_per_epoch = int(2 * x.shape[0]/ batch_size)\n",
        "\n",
        "print(\"steps per epoch = \", steps_per_epoch)\n"
      ],
      "execution_count": null,
      "outputs": [
        {
          "output_type": "stream",
          "text": [
            "steps per epoch =  107\n"
          ],
          "name": "stdout"
        }
      ]
    },
    {
      "cell_type": "code",
      "metadata": {
        "id": "KvrUsJ__DZbS",
        "colab_type": "code",
        "colab": {
          "base_uri": "https://localhost:8080/",
          "height": 473
        },
        "outputId": "71afb5cd-0cc7-429c-b2ae-308ff10fb70c"
      },
      "source": [
        "dp = tfutils.plotting.DynamicPlot(plt, 5, 5, (8, 8))\n",
        "\n",
        "for e in range(0, epochs):\n",
        "  dp.start_of_epoch(e)\n",
        "\n",
        "  for step in range(0, steps_per_epoch):\n",
        "    true_examples = x[int(batch_size/2) * step : int(batch_size/2) * (step + 1)]\n",
        "    true_examples = np.reshape(true_examples, (true_examples.shape[0], 28, 28, 1) )\n",
        "\n",
        "    noise = np.random.randn((int(batch_size/2), 1))\n",
        "    gen_examples = generator.predict(noise)\n",
        "\n",
        "    x_batch = np.concatenate([gen_examples, true_examples], axis = 0)\n",
        "    # 0 for false examples, 1 for true examples\n",
        "    y_batch = np.array([0] * int(batch_size/2) + [1] * int(batch_size/2)) \n",
        "\n",
        "    indices = np.random.choice(range(batch_size), batch_size, replace = False)\n",
        "\n",
        "    x_batch = x_batch[indices]\n",
        "    y_batch = y_batch[indices]\n",
        "\n",
        "    discriminator.trainable = True\n",
        "    discriminator.train_on_batch(x_batch, y_batch)\n",
        "    discriminator.trainable = False\n",
        "    \n",
        "    # hey generator, if given noise, you should be able to  create some output\n",
        "    # which will be predicted as true_examples by discriminator\n",
        "    loss,_ = gan.train_on_batch(noise, np.ones(int(batch_size/2), 1))\n",
        "    _, acc = discriminator.evaluate(x_batch, y_batch, verbose= False)\n",
        "\n",
        "\n",
        "  noise = np.random.randn(1, 1)\n",
        "  gen_image = generator.predict(noise)[0]\n",
        "  gen_image = np.reshape(gen_image, (28, 28))\n",
        "  dp.end_of_epoch(gen_image, 'binary', 'Discaccr : {:.2f}'.format(acc), 'GANloss : {:.2f}'.format(loss))\n",
        "\n",
        "\n",
        "\n"
      ],
      "execution_count": null,
      "outputs": [
        {
          "output_type": "error",
          "ename": "TypeError",
          "evalue": "ignored",
          "traceback": [
            "\u001b[0;31m---------------------------------------------------------------------------\u001b[0m",
            "\u001b[0;31mTypeError\u001b[0m                                 Traceback (most recent call last)",
            "\u001b[0;32m<ipython-input-20-c149574f90f4>\u001b[0m in \u001b[0;36m<module>\u001b[0;34m()\u001b[0m\n\u001b[1;32m     26\u001b[0m     \u001b[0;31m# hey generator, if given noise, you should be able to  create some output\u001b[0m\u001b[0;34m\u001b[0m\u001b[0;34m\u001b[0m\u001b[0;34m\u001b[0m\u001b[0m\n\u001b[1;32m     27\u001b[0m     \u001b[0;31m# which will be predicted as true_examples by discriminator\u001b[0m\u001b[0;34m\u001b[0m\u001b[0;34m\u001b[0m\u001b[0;34m\u001b[0m\u001b[0m\n\u001b[0;32m---> 28\u001b[0;31m     \u001b[0mloss\u001b[0m\u001b[0;34m,\u001b[0m\u001b[0m_\u001b[0m \u001b[0;34m=\u001b[0m \u001b[0mgan\u001b[0m\u001b[0;34m.\u001b[0m\u001b[0mtrain_on_batch\u001b[0m\u001b[0;34m(\u001b[0m\u001b[0mnoise\u001b[0m\u001b[0;34m,\u001b[0m \u001b[0mnp\u001b[0m\u001b[0;34m.\u001b[0m\u001b[0mones\u001b[0m\u001b[0;34m(\u001b[0m\u001b[0mint\u001b[0m\u001b[0;34m(\u001b[0m\u001b[0mbatch_size\u001b[0m\u001b[0;34m/\u001b[0m\u001b[0;36m2\u001b[0m\u001b[0;34m)\u001b[0m\u001b[0;34m,\u001b[0m \u001b[0;36m1\u001b[0m\u001b[0;34m)\u001b[0m\u001b[0;34m)\u001b[0m\u001b[0;34m\u001b[0m\u001b[0;34m\u001b[0m\u001b[0m\n\u001b[0m\u001b[1;32m     29\u001b[0m     \u001b[0m_\u001b[0m\u001b[0;34m,\u001b[0m \u001b[0macc\u001b[0m \u001b[0;34m=\u001b[0m \u001b[0mdiscriminator\u001b[0m\u001b[0;34m.\u001b[0m\u001b[0mevaluate\u001b[0m\u001b[0;34m(\u001b[0m\u001b[0mx_batch\u001b[0m\u001b[0;34m,\u001b[0m \u001b[0my_batch\u001b[0m\u001b[0;34m,\u001b[0m \u001b[0mverbose\u001b[0m\u001b[0;34m=\u001b[0m \u001b[0;32mFalse\u001b[0m\u001b[0;34m)\u001b[0m\u001b[0;34m\u001b[0m\u001b[0;34m\u001b[0m\u001b[0m\n\u001b[1;32m     30\u001b[0m \u001b[0;34m\u001b[0m\u001b[0m\n",
            "\u001b[0;32m/usr/local/lib/python3.6/dist-packages/numpy/core/numeric.py\u001b[0m in \u001b[0;36mones\u001b[0;34m(shape, dtype, order)\u001b[0m\n\u001b[1;32m    205\u001b[0m \u001b[0;34m\u001b[0m\u001b[0m\n\u001b[1;32m    206\u001b[0m     \"\"\"\n\u001b[0;32m--> 207\u001b[0;31m     \u001b[0ma\u001b[0m \u001b[0;34m=\u001b[0m \u001b[0mempty\u001b[0m\u001b[0;34m(\u001b[0m\u001b[0mshape\u001b[0m\u001b[0;34m,\u001b[0m \u001b[0mdtype\u001b[0m\u001b[0;34m,\u001b[0m \u001b[0morder\u001b[0m\u001b[0;34m)\u001b[0m\u001b[0;34m\u001b[0m\u001b[0;34m\u001b[0m\u001b[0m\n\u001b[0m\u001b[1;32m    208\u001b[0m     \u001b[0mmultiarray\u001b[0m\u001b[0;34m.\u001b[0m\u001b[0mcopyto\u001b[0m\u001b[0;34m(\u001b[0m\u001b[0ma\u001b[0m\u001b[0;34m,\u001b[0m \u001b[0;36m1\u001b[0m\u001b[0;34m,\u001b[0m \u001b[0mcasting\u001b[0m\u001b[0;34m=\u001b[0m\u001b[0;34m'unsafe'\u001b[0m\u001b[0;34m)\u001b[0m\u001b[0;34m\u001b[0m\u001b[0;34m\u001b[0m\u001b[0m\n\u001b[1;32m    209\u001b[0m     \u001b[0;32mreturn\u001b[0m \u001b[0ma\u001b[0m\u001b[0;34m\u001b[0m\u001b[0;34m\u001b[0m\u001b[0m\n",
            "\u001b[0;31mTypeError\u001b[0m: data type not understood"
          ]
        },
        {
          "output_type": "display_data",
          "data": {
            "image/png": "[encoded data removed]",
            "text/plain": [
              "<Figure size 576x576 with 1 Axes>"
            ]
          },
          "metadata": {
            "tags": [],
            "needs_background": "light"
          }
        }
      ]
    },
    {
      "cell_type": "code",
      "metadata": {
        "id": "9_BqySPYN1Nm",
        "colab_type": "code",
        "colab": {
          "base_uri": "https://localhost:8080/",
          "height": 54
        },
        "outputId": "476436a2-5519-4820-d89f-604377a09f3a"
      },
      "source": [
        "x1 = np.zeros((100, 100))\n",
        "y1 = np.ones((50, 100))\n",
        "print(np.concatenate([x1, y1], axis=0).shape)"
      ],
      "execution_count": null,
      "outputs": [
        {
          "output_type": "stream",
          "text": [
            "(150, 100)\n"
          ],
          "name": "stdout"
        }
      ]
    }
  ]
}